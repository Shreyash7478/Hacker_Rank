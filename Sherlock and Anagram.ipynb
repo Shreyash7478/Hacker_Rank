{
 "cells": [
  {
   "cell_type": "code",
   "execution_count": 33,
   "metadata": {},
   "outputs": [
    {
     "name": "stdout",
     "output_type": "stream",
     "text": [
      "1\n",
      "abcd\n",
      "0\n"
     ]
    }
   ],
   "source": [
    "t = int(input())\n",
    "while not t == 0:\n",
    "    t = t-1\n",
    "    i = input()\n",
    "    s = set(i)\n",
    "    l = list(i)\n",
    "    total_count = 0\n",
    "    for j in s:\n",
    "        count = l.count(j)\n",
    "        if count > 1:\n",
    "            total_count = total_count + (count*(count-1)/2)\n",
    "    \n",
    "    for k in range(2,len(i)):\n",
    "        dic = dict()\n",
    "        for l in range(0,len(i)-k+1):\n",
    "            i2 = \"\".join(sorted(i[l:l+k]))\n",
    "            if i2 in dic:\n",
    "                dic[i2] = dic[i2]+1\n",
    "            else:\n",
    "                dic[i2]=1\n",
    "        for c in dic.values():\n",
    "            total_count = total_count + (c*(c-1)/2)\n",
    "            \n",
    "            \n",
    "    print(int(total_count))\n",
    "\n",
    "    "
   ]
  },
  {
   "cell_type": "code",
   "execution_count": 26,
   "metadata": {},
   "outputs": [
    {
     "data": {
      "text/plain": [
       "False"
      ]
     },
     "execution_count": 26,
     "metadata": {},
     "output_type": "execute_result"
    }
   ],
   "source": [
    "l = ['m','o','m']\n",
    "b = ['o','m','m']\n",
    "b is l\n"
   ]
  },
  {
   "cell_type": "code",
   "execution_count": 30,
   "metadata": {},
   "outputs": [
    {
     "data": {
      "text/plain": [
       "'Saehhrsy'"
      ]
     },
     "execution_count": 30,
     "metadata": {},
     "output_type": "execute_result"
    }
   ],
   "source": [
    "a = \"Shreyash\"\n",
    "\"\".join(sorted(a))"
   ]
  },
  {
   "cell_type": "code",
   "execution_count": null,
   "metadata": {
    "collapsed": true
   },
   "outputs": [],
   "source": []
  }
 ],
 "metadata": {
  "kernelspec": {
   "display_name": "Python 3",
   "language": "python",
   "name": "python3"
  },
  "language_info": {
   "codemirror_mode": {
    "name": "ipython",
    "version": 3
   },
   "file_extension": ".py",
   "mimetype": "text/x-python",
   "name": "python",
   "nbconvert_exporter": "python",
   "pygments_lexer": "ipython3",
   "version": "3.6.3"
  }
 },
 "nbformat": 4,
 "nbformat_minor": 2
}

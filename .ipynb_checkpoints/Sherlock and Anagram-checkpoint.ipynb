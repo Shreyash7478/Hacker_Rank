{
 "cells": [
  {
   "cell_type": "code",
   "execution_count": null,
   "metadata": {},
   "outputs": [
    {
     "name": "stdout",
     "output_type": "stream",
     "text": [
      "1\n",
      "iuygui\n",
      "{'g', 'u', 'i', 'y'}\n",
      "iuygui\n",
      "21\n",
      "{'1', '2'}\n",
      "21\n"
     ]
    }
   ],
   "source": [
    "t = int(input())\n",
    "while not t == 0:\n",
    "    t = t-1\n",
    "    i = input()\n",
    "    s = set(i)\n",
    "    print(s)\n",
    "    l = [j for j in i]\n",
    "    print(i)\n",
    "    "
   ]
  },
  {
   "cell_type": "code",
   "execution_count": null,
   "metadata": {
    "collapsed": true
   },
   "outputs": [],
   "source": []
  }
 ],
 "metadata": {
  "kernelspec": {
   "display_name": "Python 3",
   "language": "python",
   "name": "python3"
  }
 },
 "nbformat": 4,
 "nbformat_minor": 2
}
